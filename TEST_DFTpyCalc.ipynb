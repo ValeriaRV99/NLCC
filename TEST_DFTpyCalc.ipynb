{
 "cells": [
  {
   "cell_type": "code",
   "execution_count": 1,
   "id": "5e10bded-12e8-4016-858c-d86679cde735",
   "metadata": {},
   "outputs": [],
   "source": [
    "import numpy as np\n",
    "import matplotlib.pyplot as plt\n",
    "from dftpy.field import DirectField\n",
    "from dftpy.formats import io\n",
    "from dftpy.optimization import Optimization\n",
    "from dftpy.ions import Ions\n",
    "from dftpy.grid import DirectGrid\n",
    "from dftpy.math_utils import ecut2nr\n",
    "from ase import Atoms\n",
    "from dftpy.math_utils import ecut2nr\n",
    "from dftpy.api.api4ase import DFTpyCalculator"
   ]
  },
  {
   "cell_type": "code",
   "execution_count": 2,
   "id": "13b59500-c2ce-41f2-a3ce-7ec46d2f1ab8",
   "metadata": {},
   "outputs": [],
   "source": [
    "from dftpy.functional import LocalPseudo, Functional, TotalFunctional"
   ]
  },
  {
   "cell_type": "code",
   "execution_count": 3,
   "id": "ad1dcca3-1b66-409a-a7c1-fb3bbe0853a6",
   "metadata": {},
   "outputs": [],
   "source": [
    "path_ngbrv = './'\n",
    "PP_list_ngbrv_ag = {'Ag': './Ag_AE_1_gbrv.psp8'}"
   ]
  },
  {
   "cell_type": "code",
   "execution_count": 4,
   "id": "d8ae121f-5cb7-41f6-8d91-42ecaa2e5b99",
   "metadata": {},
   "outputs": [],
   "source": [
    "alat = 1.2 #[1.15, 1.2, 1.4, 1.6]#, 1.8, 2.0, 2.5, 3.0, 3.5, 4.0]#, 0.5, 0.7, 0.9, 1.0, 1.2, 1.4]\n",
    "L = 10\n",
    "atoms = Atoms('Ag2', positions=[[L/2, L/2, L/2], [alat+L/2, L/2, L/2]])\n",
    "atoms.set_cell([L, L, L])\n",
    "ions = Ions.from_ase(atoms)"
   ]
  },
  {
   "cell_type": "code",
   "execution_count": 5,
   "id": "0fe36152-e048-49b5-915e-b866bbbf801b",
   "metadata": {},
   "outputs": [],
   "source": [
    "grid = DirectGrid(ecut=60, lattice=ions.cell, full=False)\n",
    "rho = DirectField(grid=grid)\n",
    "HARTREE = Functional(type='HARTREE')"
   ]
  },
  {
   "cell_type": "code",
   "execution_count": null,
   "id": "5797eabb-8ac1-44eb-9d22-00b720b08543",
   "metadata": {
    "scrolled": true
   },
   "outputs": [],
   "source": [
    "F = []\n",
    "E = []\n",
    "alats = [0.5, 1.0, 1.2, 1.5, 2.0, 2.5, 3.0]#, 3.5, 4.0]#, 0.5, 0.7, 0.9, 1.0, 1.2, 1.4]\n",
    "L = 10\n",
    "for alat in alats:\n",
    "    atoms = Atoms('Ag2', positions=[[L/2, L/2, L/2], [alat+L/2, L/2, L/2]])\n",
    "    atoms.set_cell([L, L, L])\n",
    "    PSEUDO = Functional(type='PSEUDO', grid=grid, ions=ions, PP_list=PP_list_ngbrv_ag)\n",
    "    core = PSEUDO.core_density\n",
    "    KE = Functional(type='KEDF', name='TFvW', y=0.2, core_density=core)\n",
    "    XC = Functional(type='XC', name='LDA', core_density=core, libxc=False)\n",
    "    HARTREE = Functional(type='HARTREE')\n",
    "    \n",
    "    funcDict = {'KE' :KE, 'XC' :XC, 'HARTREE' :HARTREE, 'PSEUDO' :PSEUDO}\n",
    "    EnergyEvaluator = TotalFunctional(KE=KE, XC=XC, HARTREE=HARTREE, PSEUDO=PSEUDO)\n",
    "    rho = DirectField(grid=grid)\n",
    "    rho[:] = ions.get_ncharges() / ions.cell.volume\n",
    "    # print(rho.grid.nr, core.grid.nr)\n",
    "    opt_options = {'econv' : 1e-6, \"maxiter\": 600}\n",
    "    optimizer = Optimization(EnergyEvaluator=EnergyEvaluator, optimization_options = opt_options, optimization_method='CG')\n",
    "    \n",
    "    calc = DFTpyCalculator(optimizer = optimizer, evaluator = EnergyEvaluator, rho = rho)\n",
    "    \n",
    "    atoms.calc =calc\n",
    "    # F.append(atoms.get_forces())\n",
    "    E.append(atoms.get_total_energy())\n"
   ]
  },
  {
   "cell_type": "code",
   "execution_count": 7,
   "id": "59b086db-0652-47c0-a273-4a6bd4bb2a2a",
   "metadata": {},
   "outputs": [
    {
     "data": {
      "text/plain": [
       "<matplotlib.collections.PathCollection at 0x7fd0c8a94880>"
      ]
     },
     "execution_count": 7,
     "metadata": {},
     "output_type": "execute_result"
    },
    {
     "data": {
      "image/png": "[encoded data removed]",
      "text/plain": [
       "<Figure size 640x480 with 1 Axes>"
      ]
     },
     "metadata": {},
     "output_type": "display_data"
    }
   ],
   "source": [
    "plt.plot(alats[0:],E[0:])\n",
    "plt.scatter(alats[0:],  np.asarray(E[0:]))"
   ]
  },
  {
   "cell_type": "code",
   "execution_count": 32,
   "id": "de6e741a-0472-4b05-bf33-8a9278690668",
   "metadata": {},
   "outputs": [],
   "source": [
    "from dftpy.functional.functional_output import FunctionalOutput\n",
    "energypotential = {'TOTAL' : FunctionalOutput(name ='TOTAL', energy = 0.0)}"
   ]
  },
  {
   "cell_type": "code",
   "execution_count": 105,
   "id": "3543b6db-db5c-46e3-bf37-e562cf9f6469",
   "metadata": {
    "scrolled": true
   },
   "outputs": [],
   "source": [
    "# Function in DFTpyCalculator to play with how to add the core in KE\n",
    "def get_energy(EnergyEvaluator, rho, calcType={\"E\",\"V\"}, split = False, **kwargs):\n",
    "    print('init')\n",
    "    energy_potential = {}\n",
    "    energy_potential[\"TOTAL\"] = FunctionalOutput(name=\"TOTAL\", energy=0.0)\n",
    "    for key, func in EnergyEvaluator.funcDict.items():\n",
    "        \n",
    "        # print(key, func.name)\n",
    "        if split :\n",
    "            if func.type == \"KEDF\":\n",
    "                print('1')\n",
    "                results = func(rho, calcType=calcType, split=split)\n",
    "                print(func.name)\n",
    "                if func.core_density is not None: print('THere is core in KE')\n",
    "                for key2 in results:\n",
    "                    k = \"KEDF-\" + key2.split('-')[-1]\n",
    "                    energy_potential[k] = results[key2] + energy_potential.get(k, None)\n",
    "                    energy_potential[\"TOTAL\"] += results[key2]\n",
    "            else :\n",
    "                print('2')\n",
    "                results = func(rho, calcType=calcType, **kwargs)\n",
    "                if key =='KE' and key=='XC':     \n",
    "                    if func.core_density is not None: print('THere is core in', key)\n",
    "                energy_potential[func.type] = results\n",
    "                energy_potential[\"TOTAL\"] += results\n",
    "        else :\n",
    "            print(key)\n",
    "            if key ==\"KE\" and key==\"XC\":\n",
    "                print(key)\n",
    "            if key is not 'HARTREE':\n",
    "                print(key, func.core_density.shape)\n",
    "            results = func(rho, calcType=calcType, **kwargs)\n",
    "            energy_potential[\"TOTAL\"] += results\n",
    "    #\n",
    "    if EnergyEvaluator.ewald :\n",
    "        results = FunctionalOutput(name=\"II\", energy=EnergyEvaluator.ewald.energy)\n",
    "        if split : energy_potential[\"II\"] = results\n",
    "        energy_potential[\"TOTAL\"] += results\n",
    "    #\n",
    "    if 'E' in calcType:\n",
    "        keys, ep = zip(*energy_potential.items())\n",
    "        values = [item.energy for item in ep]\n",
    "        values = rho.mp.vsum(values)\n",
    "        for key, v in zip(keys, values):\n",
    "            energy_potential[key].energy = v\n",
    "    if not split : energy_potential = energy_potential[\"TOTAL\"]\n",
    "    return energy_potential\n"
   ]
  }
 ],
 "metadata": {
  "kernelspec": {
   "display_name": "lpps",
   "language": "python",
   "name": "lpps"
  },
  "language_info": {
   "codemirror_mode": {
    "name": "ipython",
    "version": 3
   },
   "file_extension": ".py",
   "mimetype": "text/x-python",
   "name": "python",
   "nbconvert_exporter": "python",
   "pygments_lexer": "ipython3",
   "version": "3.10.8"
  }
 },
 "nbformat": 4,
 "nbformat_minor": 5
}
