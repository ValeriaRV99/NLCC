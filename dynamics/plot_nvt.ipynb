{
 "cells": [
  {
   "cell_type": "markdown",
   "id": "f0782662-1363-4bc3-9ed9-513698d30e7b",
   "metadata": {},
   "source": [
    "## Read data from the dynamics\n",
    "Experimental data for Ah Waseda Y. The structure of non-crystalline materials: Liquids and amorphous solids. New York: McGraw-Hill, 1980\n",
    " \n",
    "Pd density = 10.5\n",
    "\n"
   ]
  },
  {
   "cell_type": "code",
   "execution_count": null,
   "id": "bcbf5be8-33cd-4e15-b1aa-0848e7774d2b",
   "metadata": {},
   "outputs": [],
   "source": [
    "import numpy as np\n",
    "import matplotlib.pyplot as plt"
   ]
  },
  {
   "cell_type": "code",
   "execution_count": null,
   "id": "8215b085-58de-438b-836d-001384a98d46",
   "metadata": {},
   "outputs": [],
   "source": [
    "exp_rdf_Ag = [ 0.023, 0.011, 0.001, 0.004, 0.139, 0.676, 1.529, 2.284, 2.580, 2.414, 2.042, 1.703, 1.456, 1.215, 1.018, 0.880, 0.783, 0.706, 0.656, 0.618, 0.599, 0.598, 0.620, 0.664, 0.716, 0.762, 0.836, 0.906, 0.960, 1.036, 1.107, 1.157, 1.203, 1.234, 1.256, 1.249, 1.214, 1.165, 1.107, 1.050, 1.000, 0.955, 0.908, 0.877, 0.852, 0.857, 0.857, 0.872, 0.887, 0.912]\n",
    "exp_r = np.arange(2.00, 7.0, 0.1)"
   ]
  },
  {
   "cell_type": "code",
   "execution_count": null,
   "id": "0d3a90a2-20c2-4ebc-9455-a4c840bbe08c",
   "metadata": {},
   "outputs": [],
   "source": [
    "from ase.geometry.analysis import Analysis\n",
    "from ase.io.trajectory import Trajectory"
   ]
  },
  {
   "cell_type": "code",
   "execution_count": null,
   "id": "257bf77f-7c6b-4a19-8daf-d111bdcef43a",
   "metadata": {
    "scrolled": true
   },
   "outputs": [],
   "source": [
    "analysis = Analysis(list(Trajectory('md_ngbrv.traj')))\n",
    "rdf_ngbrv = analysis.get_rdf(rmax=6.0, nbins=100, return_dists=True)\n",
    "rdf_ngbrv = np.asarray(rdf_ngbrv).mean(axis=0)"
   ]
  },
  {
   "cell_type": "code",
   "execution_count": null,
   "id": "cf21dcb4-5c77-4699-8bad-f6b2a19b8f11",
   "metadata": {},
   "outputs": [],
   "source": [
    "plt.plot(exp_r, exp_rdf_Ag, 'o-', label='Exp', markerfacecolor='None', markeredgecolor='blue')\n",
    "plt.plot(rdf_ngbrv[1], rdf_ngbrv[0], 'g', lw=2,label='NGBRV TF0.2vW')\n",
    "plt.legend()"
   ]
  },
  {
   "cell_type": "code",
   "execution_count": null,
   "id": "1ef733b4-4c99-4292-8855-cd7a8f049f12",
   "metadata": {},
   "outputs": [],
   "source": [
    "from ase.io import read"
   ]
  },
  {
   "cell_type": "code",
   "execution_count": null,
   "id": "f994df1e-1b10-4a15-9ee1-f470d307262c",
   "metadata": {},
   "outputs": [],
   "source": [
    "atoms = read('md_ngbrv.traj@-1')"
   ]
  },
  {
   "cell_type": "code",
   "execution_count": null,
   "id": "202c3dd7-484d-4b7d-9682-23a211baeab3",
   "metadata": {},
   "outputs": [],
   "source": [
    "atoms.write('ag.vasp')"
   ]
  }
 ],
 "metadata": {
  "kernelspec": {
   "display_name": "Python 3 (ipykernel)",
   "language": "python",
   "name": "python3"
  },
  "language_info": {
   "codemirror_mode": {
    "name": "ipython",
    "version": 3
   },
   "file_extension": ".py",
   "mimetype": "text/x-python",
   "name": "python",
   "nbconvert_exporter": "python",
   "pygments_lexer": "ipython3",
   "version": "3.8.5"
  }
 },
 "nbformat": 4,
 "nbformat_minor": 5
}
